{
 "cells": [
  {
   "cell_type": "code",
   "execution_count": 460,
   "id": "6176d03e",
   "metadata": {},
   "outputs": [
    {
     "data": {
      "text/plain": [
       "'\\nИстпытательный скрипт по Учебным дисциплинам\\n'"
      ]
     },
     "execution_count": 460,
     "metadata": {},
     "output_type": "execute_result"
    }
   ],
   "source": [
    "\"\"\"\n",
    "Истпытательный скрипт по Учебным дисциплинам\n",
    "\"\"\""
   ]
  },
  {
   "cell_type": "code",
   "execution_count": 461,
   "id": "89d5d70b",
   "metadata": {},
   "outputs": [],
   "source": [
    "import pandas as pd\n",
    "import numpy as np\n",
    "import openpyxl\n",
    "from docxtpl import DocxTemplate\n",
    "import string\n",
    "import time\n",
    "import re\n",
    "\n",
    "pd.options.mode.chained_assignment = None  # default='warn'\n",
    "pd.set_option('display.max_columns', None)  # Отображать все столбцы\n",
    "pd.set_option('display.expand_frame_repr', False)  # Не переносить строки\n",
    "import warnings\n",
    "\n",
    "warnings.filterwarnings('ignore', category=UserWarning, module='openpyxl')\n",
    "warnings.filterwarnings('ignore', category=FutureWarning, module='openpyxl')"
   ]
  },
  {
   "cell_type": "code",
   "execution_count": 462,
   "id": "4168237a",
   "metadata": {},
   "outputs": [],
   "source": [
    "df_plan_ud = pd.read_excel('data/Автозаполнение РП.xlsx',sheet_name='План УД',usecols='A:F')\n",
    "df_plan_ud.dropna(inplace=True, thresh=1)  # удаляем пустые строки"
   ]
  },
  {
   "cell_type": "code",
   "execution_count": 463,
   "id": "cf66cefe",
   "metadata": {},
   "outputs": [],
   "source": [
    "df_plan_ud.columns = ['Раздел','Тема','Количество_часов','Практика','Вид_занятия','СРС']"
   ]
  },
  {
   "cell_type": "code",
   "execution_count": 464,
   "id": "b9d5ebd8",
   "metadata": {},
   "outputs": [],
   "source": [
    "df_plan_ud['Раздел'].fillna('Пусто',inplace=True)"
   ]
  },
  {
   "cell_type": "code",
   "execution_count": 465,
   "id": "5751d84d",
   "metadata": {},
   "outputs": [],
   "source": [
    "borders=df_plan_ud[df_plan_ud['Раздел'].str.contains('семестр')].index # получаем индексы строк где есть слово семестр"
   ]
  },
  {
   "cell_type": "code",
   "execution_count": 466,
   "id": "246cb4e3",
   "metadata": {},
   "outputs": [],
   "source": [
    "part_df = [] # список для хранения кусков датафрейма\n",
    "previos_border = -1\n",
    "# делим датафрем по границам\n",
    "for value_border in borders:\n",
    "    part = df_plan_ud.iloc[previos_border:value_border]\n",
    "    part_df.append(part)\n",
    "    previos_border = value_border\n"
   ]
  },
  {
   "cell_type": "code",
   "execution_count": 467,
   "id": "018d1742",
   "metadata": {},
   "outputs": [],
   "source": [
    "# добавляем последнюю часть\n",
    "last_part = df_plan_ud.iloc[borders[-1]:]\n",
    "part_df.append(last_part)"
   ]
  },
  {
   "cell_type": "code",
   "execution_count": 468,
   "id": "aa01b1ac",
   "metadata": {},
   "outputs": [
    {
     "data": {
      "text/html": [
       "<div>\n",
       "<style scoped>\n",
       "    .dataframe tbody tr th:only-of-type {\n",
       "        vertical-align: middle;\n",
       "    }\n",
       "\n",
       "    .dataframe tbody tr th {\n",
       "        vertical-align: top;\n",
       "    }\n",
       "\n",
       "    .dataframe thead th {\n",
       "        text-align: right;\n",
       "    }\n",
       "</style>\n",
       "<table border=\"1\" class=\"dataframe\">\n",
       "  <thead>\n",
       "    <tr style=\"text-align: right;\">\n",
       "      <th></th>\n",
       "      <th>Раздел</th>\n",
       "      <th>Тема</th>\n",
       "      <th>Количество_часов</th>\n",
       "      <th>Практика</th>\n",
       "      <th>Вид_занятия</th>\n",
       "      <th>СРС</th>\n",
       "    </tr>\n",
       "  </thead>\n",
       "  <tbody>\n",
       "  </tbody>\n",
       "</table>\n",
       "</div>"
      ],
      "text/plain": [
       "Empty DataFrame\n",
       "Columns: [Раздел, Тема, Количество_часов, Практика, Вид_занятия, СРС]\n",
       "Index: []"
      ]
     },
     "execution_count": 468,
     "metadata": {},
     "output_type": "execute_result"
    }
   ],
   "source": [
    "part_df.pop(0) # удаляем нулевой элемент так как он пустой"
   ]
  },
  {
   "cell_type": "code",
   "execution_count": 469,
   "id": "55026d0d",
   "metadata": {},
   "outputs": [],
   "source": [
    "main_df = pd.DataFrame(columns=['Раздел','Тема','Количество_часов','Практика','Вид_занятия','СРС']) #  создаем базовый датафрейм"
   ]
  },
  {
   "cell_type": "code",
   "execution_count": 470,
   "id": "4d7dd2d8",
   "metadata": {},
   "outputs": [],
   "source": [
    "lst_type_lesson= ['урок','практическое занятие','лабораторное занятие','курсовая работа (КП)'] # список типов занятий\n",
    "for df in part_df:\n",
    "    dct_sum_result = {key:0 for key in lst_type_lesson} # создаем словарь для подсчета значений\n",
    "    for type_lesson in lst_type_lesson:\n",
    "        _df = df[df['Вид_занятия'] == type_lesson] # фильтруем датафрейм\n",
    "        _df['Количество_часов'].fillna(0,inplace=True)\n",
    "        _df['Количество_часов'] = _df['Количество_часов'].astype(int)\n",
    "        dct_sum_result[type_lesson] = _df['Количество_часов'].sum()\n",
    "    # создаем строку с описанием\n",
    "    margint_text = 'Итого часов за семестр:\\nиз них\\nтеория\\nпрактические занятия\\nлабораторные занятия\\nкурсовая работа (КП)'\n",
    "\n",
    "    all_hours = sum(dct_sum_result.values()) # общая сумма часов\n",
    "\n",
    "    theory_hours = dct_sum_result['урок'] # часы теории\n",
    "    praktice_hours = dct_sum_result['практическое занятие'] # часы практики\n",
    "    lab_hours = dct_sum_result['лабораторное занятие'] # часы лабораторных\n",
    "    kurs_hours = dct_sum_result['курсовая работа (КП)'] # часы курсовых\n",
    "\n",
    "    value_text = f'{all_hours}\\n\"\"\\n{theory_hours}\\n{praktice_hours}\\n{lab_hours}\\n{kurs_hours}' # строка со значениями\n",
    "    #itog_row = {'Тема':margint_text,'Количество_часов':value_text} # создаем строку\n",
    "    temp_df = pd.DataFrame([{'Тема':margint_text,'Количество_часов':value_text}])\n",
    "    df = pd.concat([df,temp_df],ignore_index=True) # добаляем итоговую строку\n",
    "    main_df = pd.concat([main_df,df],ignore_index=True) # добавляем в основной датафрейм\n",
    "        \n",
    "        \n",
    "        \n"
   ]
  },
  {
   "cell_type": "code",
   "execution_count": 471,
   "id": "8bc08178",
   "metadata": {},
   "outputs": [],
   "source": [
    "main_df.insert(0,'№_занятия',np.nan) # добавляем колонку с номерами занятий"
   ]
  },
  {
   "cell_type": "code",
   "execution_count": 472,
   "id": "02faa7be",
   "metadata": {},
   "outputs": [],
   "source": [
    "main_df['Тема'] =main_df['Тема'].fillna('Пусто') # заменяем наны на пусто"
   ]
  },
  {
   "cell_type": "code",
   "execution_count": 473,
   "id": "8f5c0e99",
   "metadata": {},
   "outputs": [],
   "source": [
    "count = 0 # счетчик\n",
    "for idx,row in enumerate(main_df.itertuples()):\n",
    "    if (row[3] == 'Пусто') | ('Итого часов' in row[3]):\n",
    "        main_df.iloc[idx,0] = ''\n",
    "    else:\n",
    "        count += 1\n",
    "        main_df.iloc[idx,0] = count\n",
    "        "
   ]
  },
  {
   "cell_type": "code",
   "execution_count": 474,
   "id": "10d9d68c",
   "metadata": {},
   "outputs": [],
   "source": [
    "# очищаем от пустых символов и строки Пусто\n",
    "main_df['Раздел'] = main_df['Раздел'].fillna('Пусто')\n",
    "main_df['Тема'] = main_df['Тема'].replace('Пусто','')\n",
    "main_df['Раздел'] = main_df['Раздел'].replace('Пусто','')"
   ]
  },
  {
   "cell_type": "code",
   "execution_count": 475,
   "id": "7ee4a55e",
   "metadata": {},
   "outputs": [
    {
     "data": {
      "text/html": [
       "<div>\n",
       "<style scoped>\n",
       "    .dataframe tbody tr th:only-of-type {\n",
       "        vertical-align: middle;\n",
       "    }\n",
       "\n",
       "    .dataframe tbody tr th {\n",
       "        vertical-align: top;\n",
       "    }\n",
       "\n",
       "    .dataframe thead th {\n",
       "        text-align: right;\n",
       "    }\n",
       "</style>\n",
       "<table border=\"1\" class=\"dataframe\">\n",
       "  <thead>\n",
       "    <tr style=\"text-align: right;\">\n",
       "      <th></th>\n",
       "      <th>№_занятия</th>\n",
       "      <th>Раздел</th>\n",
       "      <th>Тема</th>\n",
       "      <th>Количество_часов</th>\n",
       "      <th>Практика</th>\n",
       "      <th>Вид_занятия</th>\n",
       "      <th>СРС</th>\n",
       "    </tr>\n",
       "  </thead>\n",
       "  <tbody>\n",
       "    <tr>\n",
       "      <th>0</th>\n",
       "      <td></td>\n",
       "      <td>1 курс \\n1 семестр</td>\n",
       "      <td></td>\n",
       "      <td>NaN</td>\n",
       "      <td>NaN</td>\n",
       "      <td>NaN</td>\n",
       "      <td>NaN</td>\n",
       "    </tr>\n",
       "    <tr>\n",
       "      <th>1</th>\n",
       "      <td>1</td>\n",
       "      <td></td>\n",
       "      <td>Грамматически основы построения предложений</td>\n",
       "      <td>2.0</td>\n",
       "      <td>NaN</td>\n",
       "      <td>урок</td>\n",
       "      <td>NaN</td>\n",
       "    </tr>\n",
       "    <tr>\n",
       "      <th>2</th>\n",
       "      <td>2</td>\n",
       "      <td></td>\n",
       "      <td>История железнодорожного транспорта.</td>\n",
       "      <td>2.0</td>\n",
       "      <td>NaN</td>\n",
       "      <td>практическое занятие</td>\n",
       "      <td>NaN</td>\n",
       "    </tr>\n",
       "    <tr>\n",
       "      <th>3</th>\n",
       "      <td>3</td>\n",
       "      <td></td>\n",
       "      <td>История железнодорожного транспорта.</td>\n",
       "      <td>2.0</td>\n",
       "      <td>NaN</td>\n",
       "      <td>практическое занятие</td>\n",
       "      <td>NaN</td>\n",
       "    </tr>\n",
       "    <tr>\n",
       "      <th>4</th>\n",
       "      <td>4</td>\n",
       "      <td></td>\n",
       "      <td>Первая железная дорога в России.</td>\n",
       "      <td>2.0</td>\n",
       "      <td>NaN</td>\n",
       "      <td>практическое занятие</td>\n",
       "      <td>NaN</td>\n",
       "    </tr>\n",
       "    <tr>\n",
       "      <th>...</th>\n",
       "      <td>...</td>\n",
       "      <td>...</td>\n",
       "      <td>...</td>\n",
       "      <td>...</td>\n",
       "      <td>...</td>\n",
       "      <td>...</td>\n",
       "      <td>...</td>\n",
       "    </tr>\n",
       "    <tr>\n",
       "      <th>68</th>\n",
       "      <td>62</td>\n",
       "      <td></td>\n",
       "      <td>Правила перевозки домашних животных</td>\n",
       "      <td>2.0</td>\n",
       "      <td>NaN</td>\n",
       "      <td>практическое занятие</td>\n",
       "      <td>NaN</td>\n",
       "    </tr>\n",
       "    <tr>\n",
       "      <th>69</th>\n",
       "      <td>63</td>\n",
       "      <td></td>\n",
       "      <td>Вещества и предметы, запрещенные к провозу на ...</td>\n",
       "      <td>2.0</td>\n",
       "      <td>NaN</td>\n",
       "      <td>практическое занятие</td>\n",
       "      <td>NaN</td>\n",
       "    </tr>\n",
       "    <tr>\n",
       "      <th>70</th>\n",
       "      <td>64</td>\n",
       "      <td></td>\n",
       "      <td>Итоговая контрольная работа</td>\n",
       "      <td>2.0</td>\n",
       "      <td>NaN</td>\n",
       "      <td>практическое занятие</td>\n",
       "      <td>NaN</td>\n",
       "    </tr>\n",
       "    <tr>\n",
       "      <th>71</th>\n",
       "      <td>65</td>\n",
       "      <td></td>\n",
       "      <td>Дифференцированный зачет за 4 семестр</td>\n",
       "      <td>2.0</td>\n",
       "      <td>NaN</td>\n",
       "      <td>практическое занятие</td>\n",
       "      <td>NaN</td>\n",
       "    </tr>\n",
       "    <tr>\n",
       "      <th>72</th>\n",
       "      <td></td>\n",
       "      <td></td>\n",
       "      <td>Итого часов за семестр:\\nиз них\\nтеория\\nпракт...</td>\n",
       "      <td>24\\n\"\"\\n2\\n22\\n0\\n0</td>\n",
       "      <td>NaN</td>\n",
       "      <td>NaN</td>\n",
       "      <td>NaN</td>\n",
       "    </tr>\n",
       "  </tbody>\n",
       "</table>\n",
       "<p>73 rows × 7 columns</p>\n",
       "</div>"
      ],
      "text/plain": [
       "   №_занятия              Раздел                                               Тема     Количество_часов Практика           Вид_занятия  СРС\n",
       "0             1 курс \\n1 семестр                                                                     NaN      NaN                   NaN  NaN\n",
       "1          1                            Грамматически основы построения предложений                  2.0      NaN                  урок  NaN\n",
       "2          2                                   История железнодорожного транспорта.                  2.0      NaN  практическое занятие  NaN\n",
       "3          3                                   История железнодорожного транспорта.                  2.0      NaN  практическое занятие  NaN\n",
       "4          4                                       Первая железная дорога в России.                  2.0      NaN  практическое занятие  NaN\n",
       "..       ...                 ...                                                ...                  ...      ...                   ...  ...\n",
       "68        62                                    Правила перевозки домашних животных                  2.0      NaN  практическое занятие  NaN\n",
       "69        63                      Вещества и предметы, запрещенные к провозу на ...                  2.0      NaN  практическое занятие  NaN\n",
       "70        64                                            Итоговая контрольная работа                  2.0      NaN  практическое занятие  NaN\n",
       "71        65                                  Дифференцированный зачет за 4 семестр                  2.0      NaN  практическое занятие  NaN\n",
       "72                                Итого часов за семестр:\\nиз них\\nтеория\\nпракт...  24\\n\"\"\\n2\\n22\\n0\\n0      NaN                   NaN  NaN\n",
       "\n",
       "[73 rows x 7 columns]"
      ]
     },
     "execution_count": 475,
     "metadata": {},
     "output_type": "execute_result"
    }
   ],
   "source": [
    "main_df"
   ]
  },
  {
   "cell_type": "code",
   "execution_count": 476,
   "id": "23399287",
   "metadata": {},
   "outputs": [],
   "source": [
    "main_df['Тема'] = main_df['Раздел'] + main_df['Тема']"
   ]
  },
  {
   "cell_type": "code",
   "execution_count": 477,
   "id": "49de0b87",
   "metadata": {},
   "outputs": [],
   "source": [
    "main_df.drop(columns=['Раздел'],inplace=True)"
   ]
  },
  {
   "cell_type": "code",
   "execution_count": 478,
   "id": "73bfe9d5",
   "metadata": {},
   "outputs": [],
   "source": [
    "main_df.to_excel('fd.xlsx',index=False)"
   ]
  },
  {
   "cell_type": "code",
   "execution_count": null,
   "id": "50bea36c",
   "metadata": {},
   "outputs": [],
   "source": []
  },
  {
   "cell_type": "code",
   "execution_count": null,
   "id": "6bf7b903",
   "metadata": {},
   "outputs": [],
   "source": []
  },
  {
   "cell_type": "code",
   "execution_count": null,
   "id": "d9c1ca61",
   "metadata": {},
   "outputs": [],
   "source": []
  },
  {
   "cell_type": "code",
   "execution_count": null,
   "id": "8c766693",
   "metadata": {},
   "outputs": [],
   "source": []
  }
 ],
 "metadata": {
  "kernelspec": {
   "display_name": "Python 3 (ipykernel)",
   "language": "python",
   "name": "python3"
  },
  "language_info": {
   "codemirror_mode": {
    "name": "ipython",
    "version": 3
   },
   "file_extension": ".py",
   "mimetype": "text/x-python",
   "name": "python",
   "nbconvert_exporter": "python",
   "pygments_lexer": "ipython3",
   "version": "3.9.7"
  }
 },
 "nbformat": 4,
 "nbformat_minor": 5
}
